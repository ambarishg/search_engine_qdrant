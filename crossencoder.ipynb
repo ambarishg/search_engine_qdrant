{
 "cells": [
  {
   "cell_type": "code",
   "execution_count": 35,
   "metadata": {},
   "outputs": [],
   "source": [
    "from qdrant_helper import *\n",
    "from config import *\n",
    "from model_helper import *\n",
    "from azure_openai_helper import *\n",
    "from pprint import pprint"
   ]
  },
  {
   "cell_type": "code",
   "execution_count": 36,
   "metadata": {},
   "outputs": [],
   "source": [
    "query = \"Who is Dinesh Mohan ?\""
   ]
  },
  {
   "cell_type": "code",
   "execution_count": 37,
   "metadata": {},
   "outputs": [],
   "source": [
    "contexts2 = retrieve_context_semantic_ranker(query, \"\")"
   ]
  },
  {
   "cell_type": "code",
   "execution_count": 38,
   "metadata": {},
   "outputs": [
    {
     "name": "stdout",
     "output_type": "stream",
     "text": [
      "(' The Committee will consist of the following:-\\n'\n",
      " '(i) Shri S. Sundar, Sr. Fellow, TERI (Former Secretary, MOST) Chairman\\n'\n",
      " '(ii) Dr. Dinesh Mohan, IIT  Delhi Member\\n'\n",
      " '(iii) Dr. Var ghese Mathew, Director, St. Stephens Hospital, Delhi Member\\n'\n",
      " '(iv) Dr. P. S. Pasricha, DG(Police), Maharashtra Member\\n'\n",
      " '(v) Dr. S. Gangopadhyay, Head of the Department(Traffic), Member\\n'\n",
      " 'Central Road Research Institute, New Delhi\\n'\n",
      " '(vi) Shri D. P\\n'\n",
      " '---\\n'\n",
      " ' Gururaj\\n'\n",
      " 'structure and responsibilities\\n'\n",
      " 'Road safety research–institutional linkages Prof. Dinesh Mohan\\n'\n",
      " 'Road related measures–design, Shri D.P. Gupta and\\n'\n",
      " 'setting standards and audit Shri A.P. Bahadur\\n'\n",
      " 'Vehicle related measures–prescribing Shri Balraj Bhanot\\n'\n",
      " 'safety features, enforcing regulations\\n'\n",
      " 'Traffic laws, management and enforcement Shri Ramendra Jakhu,\\n'\n",
      " 'Dr. P.S. Pasricha and\\n'\n",
      " 'Mr. Rohit Baluja\\n'\n",
      " 'Road user based strategies Dr. Geetam Tiwari\\n'\n",
      " 'Public awareness and education Dr\\n'\n",
      " '---\\n'\n",
      " ' Gupta, Former Director General Member\\n'\n",
      " '(Road Development) & Additional Secretary, Government of India\\n'\n",
      " '(vii) Dr. Geetam Tiwari, Chair, Traffic Research & Injury Member\\n'\n",
      " 'Prevention Centre, IIT Delhi.\\n'\n",
      " '(viii) Shri Rohit Baluja, Institute of Road T raffic Education, New Delhi. '\n",
      " 'Member\\n'\n",
      " '(ix) Shri P.C. Chaturvedi, Member(Administration), NHAI Member\\n'\n",
      " '(x) Prof. G. Gururaj, Head Epidermiology, NIMHANS, Bangalore. Member\\n'\n",
      " '(xi) Shri A.P\\n'\n",
      " '---\\n'\n",
      " ' Bahadur, Chief Engineer(PIC), MoSRT&H Member\\n'\n",
      " '(xii) Shri Ramendra Jakhu, Principal Secretary(Transport), Member\\n'\n",
      " 'Government of Haryana.\\n'\n",
      " '(xiii) Shri Jagdish Khattar, MD, Maruti Udyog Limited. Member\\n'\n",
      " '(xiv) A representation of Planning Commission Member\\n'\n",
      " '*{Shri Gajendra Haldea, Advisor to Dy. Chairman,\\n'\n",
      " 'Planning Commission and Shri B.N.Puri, Advisor (Tpt\\n'\n",
      " '---\\n'\n",
      " ' Mishra)\\n'\n",
      " 'Director(RT)\\n'\n",
      " 'Copy to: Shri Ramu Gupta, US(RS&T).\\n'\n",
      " '*Added after the receipt of their nomination\\n'\n",
      " '---\\n')\n"
     ]
    }
   ],
   "source": [
    "pprint(contexts2)"
   ]
  },
  {
   "cell_type": "code",
   "execution_count": 39,
   "metadata": {},
   "outputs": [],
   "source": [
    "response = generate_answer_from_context(query, contexts2)"
   ]
  },
  {
   "cell_type": "code",
   "execution_count": 40,
   "metadata": {},
   "outputs": [
    {
     "name": "stdout",
     "output_type": "stream",
     "text": [
      "('Dinesh Mohan is a member of the Committee mentioned in the context. He is '\n",
      " 'affiliated with IIT Delhi, which suggests that he is an academic or '\n",
      " 'researcher in a relevant field. However, the context does not provide more '\n",
      " 'specific information about his background or expertise.')\n"
     ]
    }
   ],
   "source": [
    "pprint(response)"
   ]
  },
  {
   "cell_type": "code",
   "execution_count": null,
   "metadata": {},
   "outputs": [],
   "source": []
  }
 ],
 "metadata": {
  "kernelspec": {
   "display_name": ".venv.search.engine",
   "language": "python",
   "name": "python3"
  },
  "language_info": {
   "codemirror_mode": {
    "name": "ipython",
    "version": 3
   },
   "file_extension": ".py",
   "mimetype": "text/x-python",
   "name": "python",
   "nbconvert_exporter": "python",
   "pygments_lexer": "ipython3",
   "version": "3.8.10"
  }
 },
 "nbformat": 4,
 "nbformat_minor": 2
}
