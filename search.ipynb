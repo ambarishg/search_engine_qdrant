{
 "cells": [
  {
   "cell_type": "code",
   "execution_count": 1,
   "metadata": {},
   "outputs": [],
   "source": [
    "user_input = \"How is Novartis tackling sustainability?\""
   ]
  },
  {
   "cell_type": "code",
   "execution_count": 2,
   "metadata": {},
   "outputs": [
    {
     "name": "stderr",
     "output_type": "stream",
     "text": [
      "/home/azureuser/Ambarish/env/lib/python3.8/site-packages/tqdm/auto.py:21: TqdmWarning: IProgress not found. Please update jupyter and ipywidgets. See https://ipywidgets.readthedocs.io/en/stable/user_install.html\n",
      "  from .autonotebook import tqdm as notebook_tqdm\n"
     ]
    }
   ],
   "source": [
    "import qdrant_client as qc\n",
    "import qdrant_client.http.models as qmodels\n",
    "from qdrant_client.http.models import *\n",
    "\n",
    "from sentence_transformers import SentenceTransformer\n",
    "from azure_openai_helper import create_prompt, generate_answer"
   ]
  },
  {
   "cell_type": "code",
   "execution_count": 3,
   "metadata": {},
   "outputs": [],
   "source": [
    "# Qdrant server URL\n",
    "URL =\"localhost\"\n",
    "# Qdrant dimension of the collection\n",
    "DIMENSION = 384\n",
    "# Qdrant collection name\n",
    "COLLECTION_NAME = \"SEARCH_ENGINE\"\n",
    "METRIC_NAME =\"COSINE\"\n",
    "MODEL_NAME=\"all-MiniLM-L6-v2\""
   ]
  },
  {
   "cell_type": "code",
   "execution_count": 4,
   "metadata": {},
   "outputs": [],
   "source": [
    "client = qc.QdrantClient(url=URL)\n",
    "METRIC = qmodels.Distance.COSINE"
   ]
  },
  {
   "cell_type": "code",
   "execution_count": 5,
   "metadata": {},
   "outputs": [
    {
     "name": "stderr",
     "output_type": "stream",
     "text": [
      "Downloading (…)e9125/.gitattributes: 100%|██████████| 1.18k/1.18k [00:00<00:00, 295kB/s]\n",
      "Downloading (…)_Pooling/config.json: 100%|██████████| 190/190 [00:00<00:00, 37.1kB/s]\n",
      "Downloading (…)7e55de9125/README.md: 100%|██████████| 10.6k/10.6k [00:00<00:00, 5.01MB/s]\n",
      "Downloading (…)55de9125/config.json: 100%|██████████| 612/612 [00:00<00:00, 321kB/s]\n",
      "Downloading (…)ce_transformers.json: 100%|██████████| 116/116 [00:00<00:00, 74.2kB/s]\n",
      "Downloading (…)125/data_config.json: 100%|██████████| 39.3k/39.3k [00:00<00:00, 21.8MB/s]\n",
      "Downloading pytorch_model.bin: 100%|██████████| 90.9M/90.9M [00:00<00:00, 414MB/s]\n",
      "Downloading (…)nce_bert_config.json: 100%|██████████| 53.0/53.0 [00:00<00:00, 13.2kB/s]\n",
      "Downloading (…)cial_tokens_map.json: 100%|██████████| 112/112 [00:00<00:00, 59.9kB/s]\n",
      "Downloading (…)e9125/tokenizer.json: 100%|██████████| 466k/466k [00:00<00:00, 52.0MB/s]\n",
      "Downloading (…)okenizer_config.json: 100%|██████████| 350/350 [00:00<00:00, 242kB/s]\n",
      "Downloading (…)9125/train_script.py: 100%|██████████| 13.2k/13.2k [00:00<00:00, 6.56MB/s]\n",
      "Downloading (…)7e55de9125/vocab.txt: 100%|██████████| 232k/232k [00:00<00:00, 15.0MB/s]\n",
      "Downloading (…)5de9125/modules.json: 100%|██████████| 349/349 [00:00<00:00, 151kB/s]\n"
     ]
    }
   ],
   "source": [
    "model = SentenceTransformer(MODEL_NAME)"
   ]
  },
  {
   "cell_type": "code",
   "execution_count": 6,
   "metadata": {},
   "outputs": [],
   "source": [
    "sentence_embedding = model.encode(user_input, convert_to_tensor=True)"
   ]
  },
  {
   "cell_type": "code",
   "execution_count": 7,
   "metadata": {},
   "outputs": [],
   "source": [
    "query_filter = None"
   ]
  },
  {
   "cell_type": "code",
   "execution_count": 8,
   "metadata": {},
   "outputs": [],
   "source": [
    "search_result = client.search(\n",
    "        collection_name=COLLECTION_NAME,\n",
    "        query_vector=sentence_embedding.tolist(), \n",
    "        query_filter=query_filter,\n",
    "        limit=5\n",
    "    )"
   ]
  },
  {
   "cell_type": "code",
   "execution_count": 9,
   "metadata": {},
   "outputs": [],
   "source": [
    "context = \"\""
   ]
  },
  {
   "cell_type": "code",
   "execution_count": 10,
   "metadata": {},
   "outputs": [
    {
     "name": "stdout",
     "output_type": "stream",
     "text": [
      "context \n",
      "**** nce we have obtained; and\n",
      "- Reporting our opinion to the Board of Directors of Novartis.\n",
      "As we are engaged to form an independent conclusion on the Sustainability Information \n",
      "as prepared by management, we are not permitted to be involved in the preparation of \n",
      "the Sustainability Information as doing so may compromise our independence\n",
      "---\n",
      " \n",
      "In 2022, Novartis deployed approximately \n",
      "USD 30 million in capital expenditure \n",
      "on environmental projects to reduce con -\n",
      "sumption of natural resources, improve \n",
      "energy efficiency and adopt renewable \n",
      "energy solutions across our operations\n",
      "---\n",
      " At the same time, our \n",
      "activities may have negative effects, which \n",
      "is why we strive to reduce our environmen -\n",
      "tal footprint, uphold safety standards and \n",
      "protect human rights in our value chain.\n",
      "Novartis supports the development of \n",
      "emerging methodologies and standards to \n",
      "measure the impact of companies on \n",
      "society and the environment. We focus on \n",
      "two areas: impact valuation and assessing \n",
      "our contribution to the UN Sustainable \n",
      "Development Goals (SDGs)\n",
      "---\n",
      "\n",
      "We do not express an assurance conclusion on information in respect of earlier periods or \n",
      "to any other information included in the Report, the Novartis Annual Report or Form 20-F, \n",
      "including any images, audio files or embedded videos.\n",
      "Understanding how Novartis has Prepared the Sustainability Information\n",
      "The Reporting Criteria have been used as criteria references for the disclosures\n",
      "---\n",
      "he Report) for the year ended 31 December 2022 (hereinafter \n",
      "“ Sustainability Information”). \n",
      "Our assurance engagement does not extend to information in respect of earlier periods \n",
      "or to any other information included in the Report, the Novartis Annual Report, Form 20-F \n",
      "or displayed elsewhere on Novartis’s website for the current year or for previous periods \n",
      "unless otherwise indicated, including any images, audio files or embedded videos\n",
      "---\n",
      "\n"
     ]
    }
   ],
   "source": [
    "for result in search_result:\n",
    "    \n",
    "    context +=  result.payload['token']+\"\\n---\\n\"\n",
    "\n",
    "print(\"context \\n****\",context)"
   ]
  },
  {
   "cell_type": "code",
   "execution_count": 11,
   "metadata": {},
   "outputs": [],
   "source": [
    "conversation=[{\"role\": \"system\", \"content\": \"Assistant is a large language model trained by OpenAI.\"}]\n",
    "prompt = create_prompt(context,user_input)            \n",
    "conversation.append({\"role\": \"assistant\", \"content\": prompt})\n",
    "conversation.append({\"role\": \"user\", \"content\": user_input})\n",
    "reply = generate_answer(conversation)"
   ]
  },
  {
   "cell_type": "code",
   "execution_count": 12,
   "metadata": {},
   "outputs": [],
   "source": [
    "from pprint import pprint"
   ]
  },
  {
   "cell_type": "code",
   "execution_count": 13,
   "metadata": {},
   "outputs": [
    {
     "name": "stdout",
     "output_type": "stream",
     "text": [
      "('Novartis is tackling sustainability by focusing on reducing its '\n",
      " 'environmental footprint, upholding safety standards, and protecting human '\n",
      " 'rights in its value chain. The company has deployed approximately USD 30 '\n",
      " 'million in capital expenditure on environmental projects to reduce the '\n",
      " 'consumption of natural resources, improve energy efficiency, and adopt '\n",
      " 'renewable energy solutions across its operations. Additionally, Novartis '\n",
      " 'supports the development of emerging methodologies and standards to measure '\n",
      " 'the impact of companies on society and the environment. They concentrate on '\n",
      " 'two areas: impact valuation and assessing their contribution to the UN '\n",
      " 'Sustainable Development Goals (SDGs).')\n"
     ]
    }
   ],
   "source": [
    "pprint(reply)"
   ]
  },
  {
   "cell_type": "code",
   "execution_count": null,
   "metadata": {},
   "outputs": [],
   "source": []
  }
 ],
 "metadata": {
  "kernelspec": {
   "display_name": "base",
   "language": "python",
   "name": "python3"
  },
  "language_info": {
   "codemirror_mode": {
    "name": "ipython",
    "version": 3
   },
   "file_extension": ".py",
   "mimetype": "text/x-python",
   "name": "python",
   "nbconvert_exporter": "python",
   "pygments_lexer": "ipython3",
   "version": "3.8.10"
  },
  "orig_nbformat": 4
 },
 "nbformat": 4,
 "nbformat_minor": 2
}
